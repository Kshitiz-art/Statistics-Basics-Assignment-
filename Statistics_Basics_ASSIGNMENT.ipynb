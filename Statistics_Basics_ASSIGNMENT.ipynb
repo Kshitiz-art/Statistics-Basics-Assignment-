{
  "nbformat": 4,
  "nbformat_minor": 0,
  "metadata": {
    "colab": {
      "provenance": []
    },
    "kernelspec": {
      "name": "python3",
      "display_name": "Python 3"
    },
    "language_info": {
      "name": "python"
    }
  },
  "cells": [
    {
      "cell_type": "markdown",
      "source": [
        "QUE 1 . Explain the different types of data (qualitative and quantitative) and provide examples of each. Discuss\n",
        "nominal, ordinal, interval, and ratio scales.\n",
        "\n",
        "Ans Qualitative Data: Non-numeric data that describes categories or qualities.\n",
        "\n",
        "---\n",
        "Examples: Eye colors (blue, brown), types of cuisine (Italian, Indian).\n",
        "\n",
        "Scales:\n",
        "1. Nominal: Categories without any order (e.g., colors of cars: red, blue, green).\n",
        "2. Ordinal: Categories with a meaningful order (e.g., satisfaction levels: satisfied, neutral, dissatisfied).\n",
        "\n",
        "Quantitative Data: Numeric data that represents measurable quantities.\n",
        "Examples: Age , Height ,Weight\n",
        "Scales:\n",
        "1.Interval: Numeric data with no true zero point (e.g., temperature in Celsius).\n",
        "2. Ratio: Numeric data with a true zero point, allowing for comparison (e.g., height, weight)."
      ],
      "metadata": {
        "id": "Q4pHtb1G3WBy"
      }
    },
    {
      "cell_type": "markdown",
      "source": [
        "QUE 2  What are the measures of central tendency, and when should you use each? Discuss the mean, median,\n",
        "and mode with examples and situations where each is appropriate.\n",
        "\n",
        "Ans Mean (Average):\n",
        "1. Used when the data is continuous and symmetrically distributed.\n",
        "2. Example: The average age of employees in a company.\n",
        "\n",
        "\n",
        "Median (Middle Value):\n",
        "1. Best for skewed data or when outliers are present.\n",
        "2. Example: Median income in a neighborhood\n",
        "---\n",
        "Mode (Most Frequent Value):\n",
        "1. Useful for categorical data.\n",
        "2. Example: The most preferred car brand in a survey.\n",
        "\n"
      ],
      "metadata": {
        "id": "5pax_Vj83Vyq"
      }
    },
    {
      "cell_type": "markdown",
      "source": [
        "QUE 3  Explain the concept of dispersion. How do variance and standard deviation measure the spread of data?\n",
        "Ans Dispersion refers to the extent to which data points spread out from the central value (such as the mean). Measures of dispersion help in understanding variability within a dataset.\n",
        "\n",
        "Variance (σ²): Measures the average squared deviation from the mean. A higher variance indicates greater spread in data.\n",
        "\n",
        "Standard Deviation (σ): It is the square root of variance and gives a direct measure of dispersion in the same units as the data."
      ],
      "metadata": {
        "id": "u5KhCybh3VvM"
      }
    },
    {
      "cell_type": "markdown",
      "source": [
        "QUE 4  What is a box plot, and what can it tell you about the distribution of\n",
        "\n",
        "---\n",
        "\n",
        "data?\n",
        "\n",
        "Ans A box plot (or whisker plot) is a graphical representation of data distribution based on five summary statistics:\n",
        "\n",
        "1. Minimum (smallest value, excluding outliers)\n",
        "\n",
        "2. First Quartile (Q1) (25th percentile)\n",
        "\n",
        "3. Median (Q2) (50th percentile)\n",
        "\n",
        "4. Third Quartile (Q3) (75th percentile)\n",
        "\n",
        "5. Maximum (largest value, excluding outliers)\n",
        "\n",
        "     It helps identify:\n",
        "\n",
        "1. Skewness (symmetry of data)\n",
        "\n",
        "2. Outliers (data points beyond 1.5 * IQR from Q1 or Q3)\n",
        "\n",
        "3. Spread and variability of data"
      ],
      "metadata": {
        "id": "yzUVDRbD3Vsa"
      }
    },
    {
      "cell_type": "markdown",
      "source": [
        "QUE 5 Discuss the role of random sampling in making inferences about populations\n",
        "\n",
        "---\n",
        "\n",
        "\n",
        "\n",
        "Ans Random sampling ensures that every individual in a population has an equal chance of selection. It helps in:\n",
        "\n",
        "Reducing bias\n",
        "\n",
        "Making valid statistical inferences\n",
        "\n",
        "Ensuring representativeness of the sample"
      ],
      "metadata": {
        "id": "D8-D-5l13Vp1"
      }
    },
    {
      "cell_type": "markdown",
      "source": [
        "QUE 6 . Explain the concept of skewness and its types. How does skewness affect\n",
        "\n",
        "---\n",
        "\n",
        "the interpretation of data?\n",
        "\n",
        "Ans Skewness measures the asymmetry of a data distribution:\n",
        "\n",
        "1.  Positive Skew (Right-skewed): Long right tail; mean > median.\n",
        "\n",
        "2. Negative Skew (Left-skewed): Long left tail; mean < median.\n",
        "\n",
        "3. Zero Skew (Symmetric distribution): Mean ≈ Median.\n",
        "\n",
        "Effect of Skewness:\n",
        "\n",
        "1. Impacts mean and median comparison.\n",
        "\n",
        "2. Affects statistical tests (e.g., normality assumptions for regression).\n",
        "\n",
        "3. Requires transformation (e.g., log transformation) in severe cases."
      ],
      "metadata": {
        "id": "LJu0CYCF3VnS"
      }
    },
    {
      "cell_type": "markdown",
      "source": [
        "QUE 7  What is the interquartile range (IQR), and how is it used to detect outliers?\n",
        "Ans Interquartile Range (IQR) = Q3 − Q1 (spread of the middle 50% of data).\n",
        "\n",
        "Used for detecting outliers:\n",
        "\n",
        "Lower Bound = Q1 - 1.5 × IQR\n",
        "\n",
        "Upper Bound = Q3 + 1.5 × IQR\n",
        "\n",
        "Values outside this range are considered outliers.\n",
        "\n",
        "---\n",
        "\n"
      ],
      "metadata": {
        "id": "J4ibd_bA3Vkp"
      }
    },
    {
      "cell_type": "markdown",
      "source": [
        "QUE 8  Discuss the conditions under which the binomial distribution is used\n",
        "\n",
        "Ans\n",
        "he binomial distribution applies when:\n",
        "\n",
        "1. The experiment consists of n independent trials.\n",
        "\n",
        "2. Each trial has only two possible outcomes (success or failure).\n",
        "\n",
        "3. The probability of success (p) remains constant.\n",
        "\n",
        "4. The trials are independent.\n",
        "\n",
        "---\n",
        "\n"
      ],
      "metadata": {
        "id": "P-9WgKdM3ViD"
      }
    },
    {
      "cell_type": "markdown",
      "source": [
        "QUE 9  Explain the properties of the normal distribution and the empirical rule (68-95-99.7 rule).\n",
        "\n",
        "---\n",
        "Ans        Properties of Normal Distribution:\n",
        "\n",
        "1. Bell-shaped, symmetric about the mean.\n",
        "\n",
        "2. Mean = Median = Mode.\n",
        "\n",
        "3. Defined by mean (μ) and standard deviation (σ).\n",
        "\n",
        "             Empirical Rule (68-95-99.7 Rule):\n",
        "\n",
        "1. 68% of data falls within 1σ from the mean.\n",
        "\n",
        "2. 95% within 2σ.\n",
        "\n",
        "3. 99.7% within 3σ.\n",
        "\n",
        "\n",
        "\n"
      ],
      "metadata": {
        "id": "0ZkUVaDq3VfQ"
      }
    },
    {
      "cell_type": "markdown",
      "source": [
        "QUE 10  Provide a real-life example of a Poisson process and calculate the probability for a specific event.\n",
        "\n",
        "Ans A Poisson process models events occurring randomly over a fixed interval.\n",
        "\n",
        "Example: A hospital receives 10 emergency calls per hour on average. Probability of exactly 5 calls in one hour is:\n",
        "\n",
        "𝑃\n",
        "(\n",
        "𝑋\n",
        "=\n",
        "5\n",
        ")\n",
        "=\n",
        "𝑒\n",
        "−\n",
        "𝜆\n",
        "𝜆\n",
        "𝑥\n",
        "𝑥\n",
        "!\n",
        "P(X=5)=\n",
        "x!\n",
        "e\n",
        "−λ\n",
        " λ\n",
        "x\n",
        "\n",
        "​\n",
        "\n",
        "where\n",
        "𝜆\n",
        "=\n",
        "10\n",
        "λ=10 (average rate),\n",
        "𝑥\n",
        "=\n",
        "5\n",
        "x=5.\n",
        "\n",
        "Using calculation:\n",
        "\n",
        "𝑃\n",
        "(\n",
        "𝑋\n",
        "=\n",
        "5\n",
        ")\n",
        "=\n",
        "𝑒\n",
        "−\n",
        "10\n",
        "10\n",
        "5\n",
        "5\n",
        "!\n",
        "P(X=5)=\n",
        "5!\n",
        "e\n",
        "−10\n",
        " 10\n",
        "5\n",
        "\n",
        "---\n",
        "\n"
      ],
      "metadata": {
        "id": "yM9Jq5Cq3Vck"
      }
    },
    {
      "cell_type": "markdown",
      "source": [
        "QUE 11  Explain what a random variable is and differentiate between discrete and continuous random variables.\n",
        "\n",
        "Ans A random variable (RV) is a numerical outcome of a random process.\n",
        "\n",
        "Types:\n",
        "\n",
        "Discrete RV: Takes specific values (e.g., number of customers in a store).\n",
        "\n",
        "Continuous RV: Takes any value within a range (e.g., temperature readings).\n",
        "\n",
        "Example:\n",
        "\n",
        "Discrete: Rolling a die ({1,2,3,4,5,6}).\n",
        "\n",
        "Continuous: Measuring rainfall in a city (e.g., 12.3mm, 15.6mm)."
      ],
      "metadata": {
        "id": "M62K62rz3VaF"
      }
    },
    {
      "cell_type": "markdown",
      "source": [
        "QUE 12 Provide an example dataset, calculate both covariance and correlation, and interpret the results.\n",
        "\n",
        "Ans  Student           Study Hours (X)                Exam Score (Y)\n",
        "\n",
        "\n",
        "      A                     2                          50        \n",
        "\n",
        "\n",
        "\n",
        "      B                     4                          60\n",
        "\n",
        "\n",
        "\n",
        "      C                     6                           70\n",
        "\n",
        "\n",
        "      D                     8                          80\n",
        "\n",
        "\n",
        "      E                     10                         90\n",
        "\n",
        "\n",
        "\n",
        "\n",
        "\n",
        "\n",
        "Calculation of Covariance and Correlation:\n",
        "We'll compute both covariance and the Pearson correlation coefficient using Python.\n",
        "\n",
        "Interpretation of Results:\n",
        "Covariance (53.75):\n",
        "\n",
        "A positive covariance indicates that study hours and exam scores tend to increase together.\n",
        "\n",
        "However, covariance alone does not tell us the strength of the relationship.\n",
        "\n",
        "Correlation (0.969):\n",
        "\n",
        "The correlation coefficient is close to 1, indicating a very strong positive relationship between study hours and exam scores.\n",
        "\n",
        "This suggests that as study hours increase, exam scores also increase significantly.\n",
        "\n",
        "---\n",
        "\n",
        "\n",
        "\n",
        "\n",
        "\n",
        "\n",
        "\n",
        "\n"
      ],
      "metadata": {
        "id": "8D3zsMnP3VXT"
      }
    }
  ]
}